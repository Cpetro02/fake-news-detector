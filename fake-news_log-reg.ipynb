{
 "cells": [
  {
   "cell_type": "markdown",
   "id": "3e90e484",
   "metadata": {},
   "source": [
    "# Fake News Detector\n",
    "**Caitlin Petro** @ UNCC / ITCS-5156"
   ]
  },
  {
   "cell_type": "markdown",
   "id": "4d3f594e",
   "metadata": {},
   "source": [
    "## Imports"
   ]
  },
  {
   "cell_type": "code",
   "execution_count": 2,
   "id": "6f44c069",
   "metadata": {},
   "outputs": [],
   "source": [
    "# Preprocessing\n",
    "import os \n",
    "import warnings \n",
    "import pandas as pd\n",
    "import numpy as np\n",
    "import matplotlib.pyplot as plt\n",
    "from sklearn.preprocessing import LabelEncoder\n",
    "\n",
    "# BERT\n",
    "from pytorch_pretrained_bert import BertTokenizer\n",
    "from keras_preprocessing.sequence import pad_sequences"
   ]
  },
  {
   "cell_type": "markdown",
   "id": "6c809a6e",
   "metadata": {},
   "source": [
    "# Data Loading"
   ]
  },
  {
   "cell_type": "code",
   "execution_count": 3,
   "id": "f394ec13",
   "metadata": {},
   "outputs": [],
   "source": [
    "col_names = ['ID', 'Label', 'Statement', 'Subject', 'Speaker', 'Speaker_Job_Title', \n",
    "                    'State_Info', 'Party_Affiliation', 'Barely_True_Count', 'False_Count', \n",
    "                    'Half_True_Count', 'Mostly_True_Count', 'Pants_On_Fire_Count', 'Context']"
   ]
  },
  {
   "cell_type": "code",
   "execution_count": 4,
   "id": "6fbb43ba",
   "metadata": {},
   "outputs": [],
   "source": [
    "def load_news_data(n=col_names, s=r'\\t', e='python'):\n",
    "    \n",
    "    pth = 'liar_dataset/'\n",
    "    liar_data = [pth+'train.tsv', pth+'test.tsv', pth+'valid.tsv']\n",
    "    \n",
    "    for data in liar_data:\n",
    "        if not os.path.exists(data):\n",
    "            warnings.warn(\"Data not detected in your local path!\")  \n",
    "    \n",
    "    trn = pd.read_csv(liar_data[0], sep=s, names=n, engine=e)\n",
    "    tst = pd.read_csv(liar_data[1], sep=s, names=n, engine=e)\n",
    "    vld = pd.read_csv(liar_data[2], sep=s, names=n, engine=e)\n",
    "    \n",
    "    print('Liar dataset has been loaded successfully')\n",
    "    return trn, tst, vld"
   ]
  },
  {
   "cell_type": "code",
   "execution_count": 5,
   "id": "bd29f56d",
   "metadata": {},
   "outputs": [
    {
     "name": "stdout",
     "output_type": "stream",
     "text": [
      "Liar dataset has been loaded successfully\n"
     ]
    }
   ],
   "source": [
    "df_train, df_test, df_valid = load_news_data()"
   ]
  },
  {
   "cell_type": "markdown",
   "id": "e18d3b39",
   "metadata": {},
   "source": [
    "# Data Preprocessing Methods"
   ]
  },
  {
   "cell_type": "code",
   "execution_count": 6,
   "id": "289dba96",
   "metadata": {},
   "outputs": [],
   "source": [
    "# Replace NaNs\n",
    "def replace_nans(df):\n",
    "    df = df.replace(np.nan, 'none')\n",
    "    return df"
   ]
  },
  {
   "cell_type": "code",
   "execution_count": 7,
   "id": "70b5b112",
   "metadata": {},
   "outputs": [],
   "source": [
    "# Binarze 'Label' column\n",
    "def binarize_labels(df):\n",
    "    true_labels = ['true', 'mostly-true']\n",
    "    false_labels = ['half-true', 'barely-true', 'pants-fire']\n",
    "    \n",
    "    df['Label'] = df['Label'].replace(true_labels, 'true')\n",
    "    df['Label'] = df['Label'].replace(false_labels, 'false')\n",
    "    return df"
   ]
  },
  {
   "cell_type": "code",
   "execution_count": 8,
   "id": "52becf45",
   "metadata": {},
   "outputs": [],
   "source": [
    "# Encode 'Label' column\n",
    "def encode_label(df, col='Label', cat_col='Label_Cat'):\n",
    "    labelencoder = LabelEncoder()\n",
    "    df[cat_col] = labelencoder.fit_transform(df[col])\n",
    "    return df"
   ]
  },
  {
   "cell_type": "code",
   "execution_count": 9,
   "id": "3c1f8731",
   "metadata": {},
   "outputs": [],
   "source": [
    "# Drop columns\n",
    "def drop_columns(df):\n",
    "    cols_to_drop = ['ID', 'Label', 'Barely_True_Count', 'False_Count', \n",
    "                'Half_True_Count', 'Mostly_True_Count', 'Pants_On_Fire_Count']\n",
    "    df = df.drop(labels=cols_to_drop, axis=1)\n",
    "    return df"
   ]
  },
  {
   "cell_type": "code",
   "execution_count": 10,
   "id": "e251c157",
   "metadata": {},
   "outputs": [],
   "source": [
    "# Convert strings in columns to lower-case\n",
    "def to_lowercase(df):\n",
    "    cols = ['Statement', 'Subject', 'Speaker', 'Speaker_Job_Title', 'State_Info', 'Party_Affiliation', 'Context']\n",
    "    for col in cols:\n",
    "        df[col] = df[col].str.lower()\n",
    "    return df"
   ]
  },
  {
   "cell_type": "markdown",
   "id": "7a8a29c3",
   "metadata": {},
   "source": [
    "# Apply Data Preprocessing"
   ]
  },
  {
   "cell_type": "code",
   "execution_count": 11,
   "id": "d0d0693a",
   "metadata": {},
   "outputs": [
    {
     "name": "stdout",
     "output_type": "stream",
     "text": [
      "df_train successfully preprocessed\n",
      "df_test successfully preprocessed\n",
      "df_valid successfully preprocessed\n"
     ]
    }
   ],
   "source": [
    "def apply_preprocessing(df):\n",
    "    df = (df.pipe(replace_nans)\n",
    "            .pipe(binarize_labels)\n",
    "            .pipe(encode_label)\n",
    "            .pipe(drop_columns)\n",
    "            .pipe(to_lowercase))\n",
    "    return df\n",
    "\n",
    "df_train = apply_preprocessing(df_train)\n",
    "print(\"df_train successfully preprocessed\")\n",
    "\n",
    "df_test = apply_preprocessing(df_test)\n",
    "print(\"df_test successfully preprocessed\")\n",
    "\n",
    "df_valid = apply_preprocessing(df_valid)\n",
    "print(\"df_valid successfully preprocessed\")"
   ]
  },
  {
   "cell_type": "markdown",
   "id": "391ec8c8",
   "metadata": {},
   "source": [
    "# Label Distribution"
   ]
  },
  {
   "cell_type": "code",
   "execution_count": 12,
   "id": "e8515d00",
   "metadata": {
    "scrolled": true
   },
   "outputs": [
    {
     "name": "stdout",
     "output_type": "stream",
     "text": [
      "Training set label distribution\n",
      "Fake = 6620, True = 3649\n"
     ]
    },
    {
     "data": {
      "image/png": "[encoded data removed]",
      "text/plain": [
       "<Figure size 640x480 with 1 Axes>"
      ]
     },
     "metadata": {},
     "output_type": "display_data"
    },
    {
     "name": "stdout",
     "output_type": "stream",
     "text": [
      "Testing set label distribution\n",
      "Fake = 823, True = 460\n"
     ]
    },
    {
     "data": {
      "image/png": "[encoded data removed]",
      "text/plain": [
       "<Figure size 640x480 with 1 Axes>"
      ]
     },
     "metadata": {},
     "output_type": "display_data"
    },
    {
     "name": "stdout",
     "output_type": "stream",
     "text": [
      "Validation set label distribution\n",
      "Fake = 864, True = 420\n"
     ]
    },
    {
     "data": {
      "image/png": "[encoded data removed]",
      "text/plain": [
       "<Figure size 640x480 with 1 Axes>"
      ]
     },
     "metadata": {},
     "output_type": "display_data"
    }
   ],
   "source": [
    "def distribute_labels(df):       \n",
    "    df_label_cnts = df['Label_Cat'].value_counts()\n",
    "    print('Fake = ' + str(df_label_cnts[0]) + \", True = \" + str(df_label_cnts[1]))\n",
    "    plt.pie(df_label_cnts, labels=['True', 'False'])\n",
    "    plt.show()\n",
    "    \n",
    "print(\"Training set label distribution\")\n",
    "distribute_labels(df_train)\n",
    "\n",
    "print(\"Testing set label distribution\")\n",
    "distribute_labels(df_test)\n",
    "\n",
    "print(\"Validation set label distribution\")\n",
    "distribute_labels(df_valid)"
   ]
  },
  {
   "cell_type": "code",
   "execution_count": 13,
   "id": "cdece7d5",
   "metadata": {
    "scrolled": true
   },
   "outputs": [
    {
     "data": {
      "text/html": [
       "<div>\n",
       "<style scoped>\n",
       "    .dataframe tbody tr th:only-of-type {\n",
       "        vertical-align: middle;\n",
       "    }\n",
       "\n",
       "    .dataframe tbody tr th {\n",
       "        vertical-align: top;\n",
       "    }\n",
       "\n",
       "    .dataframe thead th {\n",
       "        text-align: right;\n",
       "    }\n",
       "</style>\n",
       "<table border=\"1\" class=\"dataframe\">\n",
       "  <thead>\n",
       "    <tr style=\"text-align: right;\">\n",
       "      <th></th>\n",
       "      <th>Statement</th>\n",
       "      <th>Subject</th>\n",
       "      <th>Speaker</th>\n",
       "      <th>Speaker_Job_Title</th>\n",
       "      <th>State_Info</th>\n",
       "      <th>Party_Affiliation</th>\n",
       "      <th>Context</th>\n",
       "      <th>Label_Cat</th>\n",
       "    </tr>\n",
       "  </thead>\n",
       "  <tbody>\n",
       "    <tr>\n",
       "      <th>0</th>\n",
       "      <td>says the annies list political group supports ...</td>\n",
       "      <td>abortion</td>\n",
       "      <td>dwayne-bohac</td>\n",
       "      <td>state representative</td>\n",
       "      <td>texas</td>\n",
       "      <td>republican</td>\n",
       "      <td>a mailer</td>\n",
       "      <td>0</td>\n",
       "    </tr>\n",
       "    <tr>\n",
       "      <th>1</th>\n",
       "      <td>when did the decline of coal start? it started...</td>\n",
       "      <td>energy,history,job-accomplishments</td>\n",
       "      <td>scott-surovell</td>\n",
       "      <td>state delegate</td>\n",
       "      <td>virginia</td>\n",
       "      <td>democrat</td>\n",
       "      <td>a floor speech.</td>\n",
       "      <td>0</td>\n",
       "    </tr>\n",
       "    <tr>\n",
       "      <th>2</th>\n",
       "      <td>hillary clinton agrees with john mccain \"by vo...</td>\n",
       "      <td>foreign-policy</td>\n",
       "      <td>barack-obama</td>\n",
       "      <td>president</td>\n",
       "      <td>illinois</td>\n",
       "      <td>democrat</td>\n",
       "      <td>denver</td>\n",
       "      <td>1</td>\n",
       "    </tr>\n",
       "    <tr>\n",
       "      <th>3</th>\n",
       "      <td>health care reform legislation is likely to ma...</td>\n",
       "      <td>health-care</td>\n",
       "      <td>blog-posting</td>\n",
       "      <td>none</td>\n",
       "      <td>none</td>\n",
       "      <td>none</td>\n",
       "      <td>a news release</td>\n",
       "      <td>0</td>\n",
       "    </tr>\n",
       "    <tr>\n",
       "      <th>4</th>\n",
       "      <td>the economic turnaround started at the end of ...</td>\n",
       "      <td>economy,jobs</td>\n",
       "      <td>charlie-crist</td>\n",
       "      <td>none</td>\n",
       "      <td>florida</td>\n",
       "      <td>democrat</td>\n",
       "      <td>an interview on cnn</td>\n",
       "      <td>0</td>\n",
       "    </tr>\n",
       "  </tbody>\n",
       "</table>\n",
       "</div>"
      ],
      "text/plain": [
       "                                           Statement  \\\n",
       "0  says the annies list political group supports ...   \n",
       "1  when did the decline of coal start? it started...   \n",
       "2  hillary clinton agrees with john mccain \"by vo...   \n",
       "3  health care reform legislation is likely to ma...   \n",
       "4  the economic turnaround started at the end of ...   \n",
       "\n",
       "                              Subject         Speaker     Speaker_Job_Title  \\\n",
       "0                            abortion    dwayne-bohac  state representative   \n",
       "1  energy,history,job-accomplishments  scott-surovell        state delegate   \n",
       "2                      foreign-policy    barack-obama             president   \n",
       "3                         health-care    blog-posting                  none   \n",
       "4                        economy,jobs   charlie-crist                  none   \n",
       "\n",
       "  State_Info Party_Affiliation              Context  Label_Cat  \n",
       "0      texas        republican             a mailer          0  \n",
       "1   virginia          democrat      a floor speech.          0  \n",
       "2   illinois          democrat               denver          1  \n",
       "3       none              none       a news release          0  \n",
       "4    florida          democrat  an interview on cnn          0  "
      ]
     },
     "execution_count": 13,
     "metadata": {},
     "output_type": "execute_result"
    }
   ],
   "source": [
    "df_train.head(5)"
   ]
  },
  {
   "cell_type": "markdown",
   "id": "74544f31",
   "metadata": {},
   "source": [
    "# Text Classification with Logistic Regression"
   ]
  },
  {
   "cell_type": "code",
   "execution_count": 14,
   "id": "58070f69",
   "metadata": {},
   "outputs": [],
   "source": [
    "from sklearn.feature_extraction.text import CountVectorizer\n",
    "from sklearn.linear_model import LogisticRegression\n",
    "from sklearn import metrics\n",
    "import seaborn as sns"
   ]
  },
  {
   "cell_type": "code",
   "execution_count": 15,
   "id": "8274b5d1",
   "metadata": {},
   "outputs": [
    {
     "data": {
      "text/plain": [
       "(10269, 12138)"
      ]
     },
     "execution_count": 15,
     "metadata": {},
     "output_type": "execute_result"
    }
   ],
   "source": [
    "train_statements = df_train['Statement']\n",
    "train_labels = df_train['Label_Cat']\n",
    "\n",
    "test_statements = df_test['Statement']\n",
    "test_labels = df_test['Label_Cat']\n",
    "\n",
    "cv = CountVectorizer()\n",
    "train_cv = cv.fit_transform(train_statements)\n",
    "train_cv.shape"
   ]
  },
  {
   "cell_type": "code",
   "execution_count": 16,
   "id": "229d2354",
   "metadata": {},
   "outputs": [
    {
     "name": "stderr",
     "output_type": "stream",
     "text": [
      "C:\\Users\\welcm\\anaconda3\\lib\\site-packages\\sklearn\\linear_model\\_logistic.py:814: ConvergenceWarning: lbfgs failed to converge (status=1):\n",
      "STOP: TOTAL NO. of ITERATIONS REACHED LIMIT.\n",
      "\n",
      "Increase the number of iterations (max_iter) or scale the data as shown in:\n",
      "    https://scikit-learn.org/stable/modules/preprocessing.html\n",
      "Please also refer to the documentation for alternative solver options:\n",
      "    https://scikit-learn.org/stable/modules/linear_model.html#logistic-regression\n",
      "  n_iter_i = _check_optimize_result(\n"
     ]
    },
    {
     "data": {
      "text/plain": [
       "array([0, 0, 0, ..., 0, 1, 0])"
      ]
     },
     "execution_count": 16,
     "metadata": {},
     "output_type": "execute_result"
    }
   ],
   "source": [
    "lr = LogisticRegression()\n",
    "lr.fit(train_cv, train_labels)\n",
    "\n",
    "test_cv = cv.transform(test_statements)\n",
    "\n",
    "predictions = lr.predict(test_cv)\n",
    "predictions"
   ]
  },
  {
   "cell_type": "code",
   "execution_count": 17,
   "id": "807e44a4",
   "metadata": {},
   "outputs": [],
   "source": [
    "cf_matrix = metrics.confusion_matrix(test_labels,predictions)"
   ]
  },
  {
   "cell_type": "code",
   "execution_count": 18,
   "id": "1fc916b3",
   "metadata": {},
   "outputs": [
    {
     "data": {
      "text/plain": [
       "<AxesSubplot:>"
      ]
     },
     "execution_count": 18,
     "metadata": {},
     "output_type": "execute_result"
    },
    {
     "data": {
      "image/png": "[encoded data removed]",
      "text/plain": [
       "<Figure size 640x480 with 2 Axes>"
      ]
     },
     "metadata": {},
     "output_type": "display_data"
    }
   ],
   "source": [
    "group_names = ['True Neg','False Pos','False Neg','True Pos']\n",
    "group_counts = ['{0:0.0f}'.format(value) for value in\n",
    "                cf_matrix.flatten()]\n",
    "group_percentages = ['{0:.2%}'.format(value) for value in\n",
    "                     cf_matrix.flatten()/np.sum(cf_matrix)]\n",
    "labels = [f'{v1}\\n{v2}\\n{v3}' for v1, v2, v3 in\n",
    "          zip(group_names,group_counts,group_percentages)]\n",
    "labels = np.asarray(labels).reshape(2,2)\n",
    "sns.heatmap(cf_matrix, annot=labels, fmt='', cmap='Blues')"
   ]
  }
 ],
 "metadata": {
  "kernelspec": {
   "display_name": "Python 3 (ipykernel)",
   "language": "python",
   "name": "python3"
  },
  "language_info": {
   "codemirror_mode": {
    "name": "ipython",
    "version": 3
   },
   "file_extension": ".py",
   "mimetype": "text/x-python",
   "name": "python",
   "nbconvert_exporter": "python",
   "pygments_lexer": "ipython3",
   "version": "3.9.13"
  }
 },
 "nbformat": 4,
 "nbformat_minor": 5
}
